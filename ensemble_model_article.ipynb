{
 "cells": [
  {
   "cell_type": "code",
   "execution_count": null,
   "metadata": {},
   "outputs": [],
   "source": [
    "Onderwerp ensemble modellen\n",
    "Strength in numbers: why do ensemble models such as gradient boosting work so well\n",
    "\n",
    "Intro\n",
    "- Oplossen van data science probleem is in essentie het bepalen van de functie tussen features en labels\n",
    "- een enorm populaire manier om dit te doen is gradient boosting \n",
    "- GBM is een ensemble methode, een heel ensemble aan modellen legt samen de functie vast tussen features en labels\n",
    "- in dit artikel gaan we kijken naar ensemble modellen, een aantal voorbeelden bespreken, en waarom ze zo goed werken. \n",
    "\n",
    "Basis idee ensemble modellen\n",
    "- De kern is het opbouwen van een functie uit basis functie bouwblokken ipv 1 grote functie\n",
    "- deze soort aanpak zie je veel, bv fourier transform, pca, wavelets\n",
    "- elke verschillende ensemble methode heeft andere basis functies en een andere manier om het ensemble te genereren\n",
    "- werk voorbeeld uit random forest \n",
    "- werk voorbeeld uit GBM, benadruk verschil met RF\n",
    "- stip aan dat neurale netwerken ook een soort ensemble zijn, maar dan veel minder expliciet.\n",
    "\n",
    "Waarom werken ze zo goed\n",
    "- leg dit uit, maar wellicht kan dit ook in het vorige hoofstuk geïntegreerd worden"
   ]
  }
 ],
 "metadata": {
  "language_info": {
   "name": "python"
  },
  "orig_nbformat": 4
 },
 "nbformat": 4,
 "nbformat_minor": 2
}
